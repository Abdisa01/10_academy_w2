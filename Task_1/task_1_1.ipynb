{
 "cells": [
  {
   "cell_type": "code",
   "execution_count": null,
   "metadata": {
    "vscode": {
     "languageId": "plaintext"
    }
   },
   "outputs": [],
   "source": [
    "import pandas as pd\n",
    "# Load the datasets from CSV files\n",
    "telecom_df = pd.read_csv('/content/drive/MyDrive/Colab Notebooks/GitHub/Data-weak2/Data/Copy of Week2_challenge_data_source(CSV).csv')\n",
    "print(\"Telecom Data:\")\n",
    "print(telecom_df.head())\n",
    "\n",
    "# Step 1: Identify the Top 10 Handsets Used by Customers (based on Handset Type)\n",
    "top_handsets = telecom_df['Handset Type'].value_counts().head(10)\n",
    "print(\"\\nTop 10 Handsets:\\n\", top_handsets)"
   ]
  },
  {
   "cell_type": "code",
   "execution_count": null,
   "metadata": {
    "vscode": {
     "languageId": "plaintext"
    }
   },
   "outputs": [],
   "source": [
    "# Step 2: Identify the Top 3 Handset Manufacturers\n",
    "top_manufacturers = telecom_df['Handset Manufacturer'].value_counts().head(3)\n",
    "print(\"\\nTop 3 Handset Manufacturers:\\n\", top_manufacturers)\n",
    "\n",
    "# Step 3: Identify the Top 5 Handsets per Top 3 Manufacturers\n",
    "top_3_manufacturers = top_manufacturers.index.tolist()\n",
    "top_handsets_per_manufacturer = {}"
   ]
  },
  {
   "cell_type": "code",
   "execution_count": null,
   "metadata": {
    "vscode": {
     "languageId": "plaintext"
    }
   },
   "outputs": [],
   "source": [
    "for manufacturer in top_3_manufacturers:\n",
    "    handsets = telecom_df[telecom_df['Handset Manufacturer'] == manufacturer]['Handset Type'].value_counts().head(5)\n",
    "    top_handsets_per_manufacturer[manufacturer] = handsets\n",
    "\n",
    "print(\"\\nTop Handsets per Manufacturer:\")\n",
    "for manufacturer, handsets in top_handsets_per_manufacturer.items():\n",
    "    print(f\"\\n{manufacturer}:\\n{handsets}\")\n",
    "\n",
    "print(\"Columns in the Telecom Data:\")\n",
    "print(telecom_df.columns)"
   ]
  },
  {
   "cell_type": "code",
   "execution_count": null,
   "metadata": {
    "vscode": {
     "languageId": "plaintext"
    }
   },
   "outputs": [],
   "source": [
    "# Plotting User Behavior Overview\n",
    "plt.figure(figsize=(16, 8))\n",
    "\n",
    "# Total Downloads and Total Uploads\n",
    "plt.subplot(2, 2, 1)\n",
    "sns.barplot(data=user_behavior, x='MSISDN/Number', y='total_dl', color='blue')\n",
    "plt.title('Total Download Bytes per User')\n",
    "plt.xlabel('User (MSISDN)')\n",
    "plt.ylabel('Total Download Bytes')\n",
    "plt.xticks(rotation=90)\n",
    "\n",
    "plt.subplot(2, 2, 2)\n",
    "sns.barplot(data=user_behavior, x='MSISDN/Number', y='total_ul', color='orange')\n",
    "plt.title('Total Upload Bytes per User')\n",
    "plt.xlabel('User (MSISDN)')\n",
    "plt.ylabel('Total Upload Bytes')\n",
    "plt.xticks(rotation=90)\n",
    "\n",
    "# Number of Sessions and Total Duration\n",
    "plt.subplot(2, 2, 3)\n",
    "sns.barplot(data=user_behavior, x='MSISDN/Number', y='number_of_sessions', color='green')\n",
    "plt.title('Number of Sessions per User')\n",
    "plt.xlabel('User (MSISDN)')\n",
    "plt.ylabel('Number of Sessions')\n",
    "plt.xticks(rotation=90)\n",
    "\n",
    "plt.subplot(2, 2, 4)\n",
    "sns.barplot(data=user_behavior, x='MSISDN/Number', y='total_duration', color='purple')\n",
    "plt.title('Total Duration (ms) per User')\n",
    "plt.xlabel('User (MSISDN)')\n",
    "plt.ylabel('Total Duration (ms)')\n",
    "plt.xticks(rotation=90)\n",
    "\n",
    "plt.tight_layout()\n",
    "plt.show()"
   ]
  }
 ],
 "metadata": {
  "language_info": {
   "name": "python"
  }
 },
 "nbformat": 4,
 "nbformat_minor": 2
}

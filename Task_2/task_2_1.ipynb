{
 "cells": [
  {
   "cell_type": "code",
   "execution_count": null,
   "metadata": {
    "vscode": {
     "languageId": "plaintext"
    }
   },
   "outputs": [],
   "source": [
    "#Task 2 - User Engagement Analysis\n",
    "import pandas as pd\n",
    "# Load the datasets from CSV files\n",
    "telecom_df = pd.read_csv('/content/drive/MyDrive/Colab Notebooks/GitHub/Data-weak2/Data/Copy of Week2_challenge_data_source(CSV).csv')\n",
    "print(\"Telecom Data:\")\n",
    "print(telecom_df.head())\n",
    "\n",
    "# Step 1: Identify the Top 10 Handsets Used by Customers (based on Handset Type)\n",
    "top_handsets = telecom_df['Handset Type'].value_counts().head(10)\n",
    "print(\"\\nTop 10 Handsets:\\n\", top_handsets)\n",
    "\n"
   ]
  },
  {
   "cell_type": "code",
   "execution_count": null,
   "metadata": {
    "vscode": {
     "languageId": "plaintext"
    }
   },
   "outputs": [],
   "source": [
    "# Calculate engagement metrics\n",
    "# Calculate session frequency\n",
    "session_frequency = telecom_df.groupby('MSISDN/Number')['Bearer Id'].count().reset_index()\n",
    "session_frequency.rename(columns={'Bearer Id': 'Session Frequency'}, inplace=True)"
   ]
  },
  {
   "cell_type": "code",
   "execution_count": null,
   "metadata": {
    "vscode": {
     "languageId": "plaintext"
    }
   },
   "outputs": [],
   "source": [
    "# Calculate average session duration\n",
    "average_session_duration = telecom_df.groupby('MSISDN/Number')['Dur. (ms)'].mean().reset_index()\n",
    "average_session_duration.rename(columns={'Dur. (ms)': 'Average Session Duration (ms)'}, inplace=True)"
   ]
  },
  {
   "cell_type": "code",
   "execution_count": null,
   "metadata": {
    "vscode": {
     "languageId": "plaintext"
    }
   },
   "outputs": [],
   "source": [
    "# Calculate total traffic (download + upload)\n",
    "total_traffic_dl = telecom_df.groupby('MSISDN/Number')['Total DL (Bytes)'].sum().reset_index()\n",
    "total_traffic_ul = telecom_df.groupby('MSISDN/Number')['Total UL (Bytes)'].sum().reset_index()"
   ]
  },
  {
   "cell_type": "code",
   "execution_count": null,
   "metadata": {
    "vscode": {
     "languageId": "plaintext"
    }
   },
   "outputs": [],
   "source": [
    "# Merge the total traffic data\n",
    "total_traffic = total_traffic_dl.merge(total_traffic_ul, on='MSISDN/Number')\n",
    "total_traffic['Total Traffic (Bytes)'] = total_traffic['Total DL (Bytes)'] + total_traffic['Total UL (Bytes)']\n",
    "total_traffic = total_traffic[['MSISDN/Number', 'Total Traffic (Bytes)']]"
   ]
  },
  {
   "cell_type": "code",
   "execution_count": null,
   "metadata": {
    "vscode": {
     "languageId": "plaintext"
    }
   },
   "outputs": [],
   "source": [
    "# Combine all metrics into one DataFrame\n",
    "user_engagement = session_frequency.merge(average_session_duration, on='MSISDN/Number')\n",
    "user_engagement = user_engagement.merge(total_traffic, on='MSISDN/Number')"
   ]
  },
  {
   "cell_type": "code",
   "execution_count": null,
   "metadata": {
    "vscode": {
     "languageId": "plaintext"
    }
   },
   "outputs": [],
   "source": [
    "# Print the user engagement overview\n",
    "print(\"\\nUser Engagement Overview:\\n\", user_engagement)"
   ]
  },
  {
   "cell_type": "code",
   "execution_count": null,
   "metadata": {
    "vscode": {
     "languageId": "plaintext"
    }
   },
   "outputs": [],
   "source": [
    "import matplotlib.pyplot as plt\n",
    "# Plotting User Engagement Metrics\n",
    "plt.figure(figsize=(16, 10))\n",
    "import seaborn as sns\n",
    "# Session Frequency\n",
    "plt.subplot(3, 1, 1)\n",
    "sns.barplot(data=user_engagement, x='MSISDN/Number', y='Session Frequency', color='blue')\n",
    "plt.title('Session Frequency per User')\n",
    "plt.xlabel('User (MSISDN)')\n",
    "plt.ylabel('Session Frequency')\n",
    "plt.xticks(rotation=90)\n",
    "\n",
    "# Average Session Duration\n",
    "plt.subplot(3, 1, 2)\n",
    "sns.barplot(data=user_engagement, x='MSISDN/Number', y='Average Session Duration (ms)', color='orange')\n",
    "plt.title('Average Session Duration per User')\n",
    "plt.xlabel('User (MSISDN)')\n",
    "plt.ylabel('Average Session Duration (ms)')\n",
    "plt.xticks(rotation=90)\n",
    "\n",
    "# Total Traffic\n",
    "plt.subplot(3, 1, 3)\n",
    "sns.barplot(data=user_engagement, x='MSISDN/Number', y='Total Traffic (Bytes)', color='green')\n",
    "plt.title('Total Traffic per User')\n",
    "plt.xlabel('User (MSISDN)')\n",
    "plt.ylabel('Total Traffic (Bytes)')\n",
    "plt.xticks(rotation=90)\n",
    "\n",
    "plt.tight_layout()\n",
    "plt.show()"
   ]
  },
  {
   "cell_type": "code",
   "execution_count": null,
   "metadata": {
    "vscode": {
     "languageId": "plaintext"
    }
   },
   "outputs": [],
   "source": [
    "# Calculate session frequency\n",
    "session_frequency = telecom_df.groupby('MSISDN/Number')['Bearer Id'].count().reset_index()\n",
    "session_frequency.rename(columns={'Bearer Id': 'Session Frequency'}, inplace=True)"
   ]
  },
  {
   "cell_type": "code",
   "execution_count": null,
   "metadata": {
    "vscode": {
     "languageId": "plaintext"
    }
   },
   "outputs": [],
   "source": [
    "# Calculate average session duration\n",
    "average_session_duration = telecom_df.groupby('MSISDN/Number')['Dur. (ms)'].mean().reset_index()\n",
    "average_session_duration.rename(columns={'Dur. (ms)': 'Average Session Duration (ms)'}, inplace=True)"
   ]
  },
  {
   "cell_type": "code",
   "execution_count": null,
   "metadata": {
    "vscode": {
     "languageId": "plaintext"
    }
   },
   "outputs": [],
   "source": [
    "# Calculate total traffic (download + upload)\n",
    "total_traffic_dl = telecom_df.groupby('MSISDN/Number')['Total DL (Bytes)'].sum().reset_index()\n",
    "total_traffic_ul = telecom_df.groupby('MSISDN/Number')['Total UL (Bytes)'].sum().reset_index()"
   ]
  },
  {
   "cell_type": "code",
   "execution_count": null,
   "metadata": {
    "vscode": {
     "languageId": "plaintext"
    }
   },
   "outputs": [],
   "source": [
    "# Merge the total traffic data\n",
    "total_traffic = total_traffic_dl.merge(total_traffic_ul, on='MSISDN/Number')\n",
    "total_traffic['Total Traffic (Bytes)'] = total_traffic['Total DL (Bytes)'] + total_traffic['Total UL (Bytes)']\n",
    "total_traffic = total_traffic[['MSISDN/Number', 'Total Traffic (Bytes)']]"
   ]
  },
  {
   "cell_type": "code",
   "execution_count": null,
   "metadata": {
    "vscode": {
     "languageId": "plaintext"
    }
   },
   "outputs": [],
   "source": [
    "# Combine all metrics into one DataFrame\n",
    "user_engagement = session_frequency.merge(average_session_duration, on='MSISDN/Number')\n",
    "user_engagement = user_engagement.merge(total_traffic, on='MSISDN/Number')"
   ]
  },
  {
   "cell_type": "code",
   "execution_count": null,
   "metadata": {
    "vscode": {
     "languageId": "plaintext"
    }
   },
   "outputs": [],
   "source": [
    "# Function to get top 10 customers per metric\n",
    "def get_top_customers(df, metric, top_n=10):\n",
    "    return df.nlargest(top_n, metric)"
   ]
  },
  {
   "cell_type": "code",
   "execution_count": null,
   "metadata": {
    "vscode": {
     "languageId": "plaintext"
    }
   },
   "outputs": [],
   "source": [
    "# Top 10 Customers by each engagement metric\n",
    "top_10_sessions = get_top_customers(user_engagement, 'Session Frequency')\n",
    "top_10_duration = get_top_customers(user_engagement, 'Average Session Duration (ms)')\n",
    "top_10_traffic = get_top_customers(user_engagement, 'Total Traffic (Bytes)')"
   ]
  },
  {
   "cell_type": "code",
   "execution_count": null,
   "metadata": {
    "vscode": {
     "languageId": "plaintext"
    }
   },
   "outputs": [],
   "source": [
    "# Print the results\n",
    "print(\"\\nTop 10 Customers by Session Frequency:\\n\", top_10_sessions)\n",
    "print(\"\\nTop 10 Customers by Average Session Duration:\\n\", top_10_duration)\n",
    "print(\"\\nTop 10 Customers by Total Traffic:\\n\", top_10_traffic)"
   ]
  },
  {
   "cell_type": "code",
   "execution_count": null,
   "metadata": {
    "vscode": {
     "languageId": "plaintext"
    }
   },
   "outputs": [],
   "source": [
    "# Visualizing the Top Customers for each metric\n",
    "plt.figure(figsize=(18, 12))\n",
    "\n",
    "# Plot for Top 10 by Session Frequency\n",
    "plt.subplot(3, 1, 1)\n",
    "sns.barplot(data=top_10_sessions, x='MSISDN/Number', y='Session Frequency', color='blue')\n",
    "plt.title('Top 10 Customers by Session Frequency')\n",
    "plt.xlabel('User (MSISDN)')\n",
    "plt.ylabel('Session Frequency')\n",
    "plt.xticks(rotation=90)\n",
    "\n",
    "# Plot for Top 10 by Average Session Duration\n",
    "plt.subplot(3, 1, 2)\n",
    "sns.barplot(data=top_10_duration, x='MSISDN/Number', y='Average Session Duration (ms)', color='orange')\n",
    "plt.title('Top 10 Customers by Average Session Duration')\n",
    "plt.xlabel('User (MSISDN)')\n",
    "plt.ylabel('Average Session Duration (ms)')\n",
    "plt.xticks(rotation=90)\n",
    "\n",
    "# Plot for Top 10 by Total Traffic\n",
    "plt.subplot(3, 1, 3)\n",
    "sns.barplot(data=top_10_traffic, x='MSISDN/Number', y='Total Traffic (Bytes)', color='green')\n",
    "plt.title('Top 10 Customers by Total Traffic')\n",
    "plt.xlabel('User (MSISDN)')\n",
    "plt.ylabel('Total Traffic (Bytes)')\n",
    "plt.xticks(rotation=90)\n",
    "\n",
    "plt.tight_layout()\n",
    "plt.show()"
   ]
  },
  {
   "cell_type": "code",
   "execution_count": null,
   "metadata": {
    "vscode": {
     "languageId": "plaintext"
    }
   },
   "outputs": [],
   "source": [
    "import seaborn as sns\n",
    "import matplotlib.pyplot as plt\n",
    "from sklearn.preprocessing import MinMaxScaler\n",
    "from sklearn.cluster import KMeans"
   ]
  },
  {
   "cell_type": "code",
   "execution_count": null,
   "metadata": {
    "vscode": {
     "languageId": "plaintext"
    }
   },
   "outputs": [],
   "source": [
    "# Calculate engagement metrics (as done previously)\n",
    "session_frequency = telecom_df.groupby('MSISDN/Number')['Bearer Id'].count().reset_index()\n",
    "session_frequency.rename(columns={'Bearer Id': 'Session Frequency'}, inplace=True)"
   ]
  },
  {
   "cell_type": "code",
   "execution_count": null,
   "metadata": {
    "vscode": {
     "languageId": "plaintext"
    }
   },
   "outputs": [],
   "source": [
    "average_session_duration = telecom_df.groupby('MSISDN/Number')['Dur. (ms)'].mean().reset_index()\n",
    "average_session_duration.rename(columns={'Dur. (ms)': 'Average Session Duration (ms)'}, inplace=True)"
   ]
  },
  {
   "cell_type": "code",
   "execution_count": null,
   "metadata": {
    "vscode": {
     "languageId": "plaintext"
    }
   },
   "outputs": [],
   "source": [
    "total_traffic_dl = telecom_df.groupby('MSISDN/Number')['Total DL (Bytes)'].sum().reset_index()\n",
    "total_traffic_ul = telecom_df.groupby('MSISDN/Number')['Total UL (Bytes)'].sum().reset_index()"
   ]
  },
  {
   "cell_type": "code",
   "execution_count": null,
   "metadata": {
    "vscode": {
     "languageId": "plaintext"
    }
   },
   "outputs": [],
   "source": [
    "total_traffic = total_traffic_dl.merge(total_traffic_ul, on='MSISDN/Number')\n",
    "total_traffic['Total Traffic (Bytes)'] = total_traffic['Total DL (Bytes)'] + total_traffic['Total UL (Bytes)']\n",
    "total_traffic = total_traffic[['MSISDN/Number', 'Total Traffic (Bytes)']]"
   ]
  },
  {
   "cell_type": "code",
   "execution_count": null,
   "metadata": {
    "vscode": {
     "languageId": "plaintext"
    }
   },
   "outputs": [],
   "source": [
    "# Combine all metrics into one DataFrame\n",
    "user_engagement = session_frequency.merge(average_session_duration, on='MSISDN/Number')\n",
    "user_engagement = user_engagement.merge(total_traffic, on='MSISDN/Number')"
   ]
  },
  {
   "cell_type": "code",
   "execution_count": null,
   "metadata": {
    "vscode": {
     "languageId": "plaintext"
    }
   },
   "outputs": [],
   "source": [
    "# Combine all metrics into one DataFrame\n",
    "user_engagement = session_frequency.merge(average_session_duration, on='MSISDN/Number')\n",
    "user_engagement = user_engagement.merge(total_traffic, on='MSISDN/Number')"
   ]
  },
  {
   "cell_type": "code",
   "execution_count": null,
   "metadata": {
    "vscode": {
     "languageId": "plaintext"
    }
   },
   "outputs": [],
   "source": [
    "# Normalize the engagement metrics\n",
    "scaler = MinMaxScaler()\n",
    "normalized_metrics = scaler.fit_transform(user_engagement[['Session Frequency', 'Average Session Duration (ms)', 'Total Traffic (Bytes)']])"
   ]
  },
  {
   "cell_type": "code",
   "execution_count": null,
   "metadata": {
    "vscode": {
     "languageId": "plaintext"
    }
   },
   "outputs": [],
   "source": [
    "# Run K-means clustering\n",
    "kmeans = KMeans(n_clusters=3, random_state=42)\n",
    "user_engagement['Cluster'] = kmeans.fit_predict(normalized_metrics)"
   ]
  },
  {
   "cell_type": "code",
   "execution_count": null,
   "metadata": {
    "vscode": {
     "languageId": "plaintext"
    }
   },
   "outputs": [],
   "source": [
    "# Print the user engagement with cluster labels\n",
    "print(\"\\nUser Engagement with Cluster Labels:\\n\", user_engagement)"
   ]
  },
  {
   "cell_type": "code",
   "execution_count": null,
   "metadata": {
    "vscode": {
     "languageId": "plaintext"
    }
   },
   "outputs": [],
   "source": [
    "# Visualize the clusters\n",
    "plt.figure(figsize=(12, 8))\n",
    "sns.scatterplot(data=user_engagement, x='Session Frequency', y='Total Traffic (Bytes)', hue='Cluster', palette='viridis', style='Cluster', s=100)\n",
    "plt.title('Customer Segmentation by Engagement Metrics')\n",
    "plt.xlabel('Session Frequency')\n",
    "plt.ylabel('Total Traffic (Bytes)')\n",
    "plt.legend(title='Cluster')\n",
    "plt.show()"
   ]
  },
  {
   "cell_type": "code",
   "execution_count": null,
   "metadata": {
    "vscode": {
     "languageId": "plaintext"
    }
   },
   "outputs": [],
   "source": [
    "# Recalculate non-normalized metrics for each cluster\n",
    "engagement_summary = user_engagement.groupby('Cluster').agg(\n",
    "    Min_Session_Frequency=('Session Frequency', 'min'),\n",
    "    Max_Session_Frequency=('Session Frequency', 'max'),\n",
    "    Avg_Session_Frequency=('Session Frequency', 'mean'),\n",
    "    Total_Session_Frequency=('Session Frequency', 'sum'),\n",
    "    Min_Average_Duration=('Average Session Duration (ms)', 'min'),\n",
    "    Max_Average_Duration=('Average Session Duration (ms)', 'max'),\n",
    "    Avg_Average_Duration=('Average Session Duration (ms)', 'mean'),\n",
    "    Total_Average_Duration=('Average Session Duration (ms)', 'sum'),\n",
    "    Min_Total_Traffic=('Total Traffic (Bytes)', 'min'),\n",
    "    Max_Total_Traffic=('Total Traffic (Bytes)', 'max'),\n",
    "    Avg_Total_Traffic=('Total Traffic (Bytes)', 'mean'),\n",
    "    Total_Total_Traffic=('Total Traffic (Bytes)', 'sum')\n",
    ").reset_index()"
   ]
  },
  {
   "cell_type": "code",
   "execution_count": null,
   "metadata": {
    "vscode": {
     "languageId": "plaintext"
    }
   },
   "outputs": [],
   "source": [
    "# Print the engagement summary\n",
    "print(\"\\nEngagement Summary by Cluster:\\n\", engagement_summary)"
   ]
  },
  {
   "cell_type": "code",
   "execution_count": null,
   "metadata": {
    "vscode": {
     "languageId": "plaintext"
    }
   },
   "outputs": [],
   "source": [
    "# Plotting metrics\n",
    "plt.subplot(3, 1, 1)\n",
    "plt.bar(x, engagement_summary['Avg_Session_Frequency'], width=bar_width, label='Average Frequency', color='blue')\n",
    "plt.bar([p + bar_width for p in x], engagement_summary['Total_Session_Frequency'], width=bar_width, label='Total Frequency', color='lightblue')\n",
    "plt.xticks([p + bar_width / 2 for p in x], ['Cluster 0', 'Cluster 1', 'Cluster 2'])\n",
    "plt.title('Session Frequency Metrics by Cluster')\n",
    "plt.ylabel('Frequency')\n",
    "plt.legend()"
   ]
  },
  {
   "cell_type": "code",
   "execution_count": null,
   "metadata": {
    "vscode": {
     "languageId": "plaintext"
    }
   },
   "outputs": [],
   "source": [
    "plt.subplot(3, 1, 2)\n",
    "plt.bar(x, engagement_summary['Avg_Average_Duration'], width=bar_width, label='Average Duration (ms)', color='orange')\n",
    "plt.bar([p + bar_width for p in x], engagement_summary['Total_Average_Duration'], width=bar_width, label='Total Duration (ms)', color='lightorange')\n",
    "plt.xticks([p + bar_width / 2 for p in x], ['Cluster 0', 'Cluster 1', 'Cluster 2'])\n",
    "plt.title('Session Duration Metrics by Cluster')\n",
    "plt.ylabel('Duration (ms)')\n",
    "plt.legend()"
   ]
  },
  {
   "cell_type": "code",
   "execution_count": null,
   "metadata": {
    "vscode": {
     "languageId": "plaintext"
    }
   },
   "outputs": [],
   "source": [
    "plt.subplot(3, 1, 3)\n",
    "plt.bar(x, engagement_summary['Avg_Total_Traffic'], width=bar_width, label='Average Traffic (Bytes)', color='green')\n",
    "plt.bar([p + bar_width for p in x], engagement_summary['Total_Total_Traffic'], width=bar_width, label='Total Traffic (Bytes)', color='lightgreen')\n",
    "plt.xticks([p + bar_width / 2 for p in x], ['Cluster 0', 'Cluster 1', 'Cluster 2'])\n",
    "plt.title('Traffic Metrics by Cluster')\n",
    "plt.ylabel('Traffic (Bytes)')\n",
    "plt.legend()\n",
    "\n",
    "plt.tight_layout()\n",
    "plt.show()"
   ]
  },
  {
   "cell_type": "code",
   "execution_count": null,
   "metadata": {
    "vscode": {
     "languageId": "plaintext"
    }
   },
   "outputs": [],
   "source": [
    "print(\"Columns in the Telecom Data:\")\n",
    "print(telecom_df.columns)"
   ]
  },
  {
   "cell_type": "code",
   "execution_count": null,
   "metadata": {
    "vscode": {
     "languageId": "plaintext"
    }
   },
   "outputs": [],
   "source": [
    "#Aggregate user total traffic per application and derive the top 10 most engaged users per application\n",
    "# Step 1: Calculate total traffic for each application\n",
    "applications = ['Google', 'Youtube', 'Netflix', 'Gaming', 'Email', 'Social Media', 'Other']  # List of applications to analyze\n",
    "for app in applications:\n",
    "    telecom_df[f'{app} Total Traffic'] = telecom_df[f'{app} DL (Bytes)'] + telecom_df[f'{app} UL (Bytes)']"
   ]
  },
  {
   "cell_type": "code",
   "execution_count": null,
   "metadata": {
    "vscode": {
     "languageId": "plaintext"
    }
   },
   "outputs": [],
   "source": [
    "# Step 2: Aggregate total traffic per user per application\n",
    "total_traffic_per_app = pd.DataFrame()\n",
    "\n",
    "for app in applications:\n",
    "    app_traffic = telecom_df.groupby('MSISDN/Number')[f'{app} Total Traffic'].sum().reset_index()\n",
    "    app_traffic['Application'] = app\n",
    "    total_traffic_per_app = pd.concat([total_traffic_per_app, app_traffic], ignore_index=True)"
   ]
  },
  {
   "cell_type": "code",
   "execution_count": null,
   "metadata": {
    "vscode": {
     "languageId": "plaintext"
    }
   },
   "outputs": [],
   "source": [
    "# Step 2: Prepare a long-format DataFrame\n",
    "total_traffic_per_app = pd.DataFrame()\n",
    "\n",
    "for app in applications:\n",
    "    app_traffic = telecom_df.groupby('MSISDN/Number')[f'{app} Total Traffic'].sum().reset_index()\n",
    "    app_traffic['Application'] = app\n",
    "    \n",
    "    # Only keep relevant columns\n",
    "    app_traffic = app_traffic[['MSISDN/Number', f'{app} Total Traffic', 'Application']]\n",
    "    app_traffic.columns = ['MSISDN/Number', 'Total Traffic', 'Application']  # Rename columns for consistency\n",
    "    \n",
    "    total_traffic_per_app = pd.concat([total_traffic_per_app, app_traffic], ignore_index=True)"
   ]
  },
  {
   "cell_type": "code",
   "execution_count": null,
   "metadata": {
    "vscode": {
     "languageId": "plaintext"
    }
   },
   "outputs": [],
   "source": [
    "# Step 3: Check the structure of the total_traffic_per_app DataFrame\n",
    "print(\"Total Traffic DataFrame:\\n\", total_traffic_per_app.head())\n",
    "print(\"Shape of total_traffic_per_app:\", total_traffic_per_app.shape)\n",
    "print(\"Columns in total_traffic_per_app:\", total_traffic_per_app.columns.tolist())"
   ]
  },
  {
   "cell_type": "code",
   "execution_count": null,
   "metadata": {
    "vscode": {
     "languageId": "plaintext"
    }
   },
   "outputs": [],
   "source": [
    "# Ensure we only rename if the expected number of columns matches\n",
    "if total_traffic_per_app.shape[1] == 3:\n",
    "    total_traffic_per_app.columns = ['MSISDN/Number', 'Total Traffic', 'Application']\n",
    "else:\n",
    "    print(\"Unexpected number of columns:\", total_traffic_per_app.shape[1])"
   ]
  },
  {
   "cell_type": "code",
   "execution_count": null,
   "metadata": {
    "vscode": {
     "languageId": "plaintext"
    }
   },
   "outputs": [],
   "source": [
    "# Function to get top 10 users per application\n",
    "def get_top_users_per_app(df, top_n=10):\n",
    "    return df.groupby('Application').apply(lambda x: x.nlargest(top_n, 'Total Traffic')).reset_index(drop=True)\n"
   ]
  },
  {
   "cell_type": "code",
   "execution_count": null,
   "metadata": {
    "vscode": {
     "languageId": "plaintext"
    }
   },
   "outputs": [],
   "source": [
    "# Get the top 10 engaged users per application\n",
    "top_10_users_per_app = get_top_users_per_app(total_traffic_per_app)"
   ]
  },
  {
   "cell_type": "code",
   "execution_count": null,
   "metadata": {
    "vscode": {
     "languageId": "plaintext"
    }
   },
   "outputs": [],
   "source": [
    "print(\"\\nTop 10 Most Engaged Users per Application:\\n\", top_10_users_per_app)"
   ]
  },
  {
   "cell_type": "code",
   "execution_count": null,
   "metadata": {
    "vscode": {
     "languageId": "plaintext"
    }
   },
   "outputs": [],
   "source": [
    "# Step 6: Plotting the top 10 engaged users per application\n",
    "plt.figure(figsize=(12, 6))\n",
    "\n",
    "# Create a bar plot\n",
    "for app in top_10_users_per_app['Application'].unique():\n",
    "    subset = top_10_users_per_app[top_10_users_per_app['Application'] == app]\n",
    "    plt.bar(subset['MSISDN/Number'].astype(str), subset['Total Traffic'], label=app)\n",
    "\n",
    "plt.title('Top 10 Engaged Users per Application')\n",
    "plt.xlabel('MSISDN/Number')\n",
    "plt.ylabel('Total Traffic (Bytes)')\n",
    "plt.xticks(rotation=45)\n",
    "plt.legend(title='Application')\n",
    "plt.tight_layout()\n",
    "plt.show()"
   ]
  },
  {
   "cell_type": "code",
   "execution_count": null,
   "metadata": {
    "vscode": {
     "languageId": "plaintext"
    }
   },
   "outputs": [],
   "source": [
    "#Plot the top 3 most used applications using appropriate charts.  \n",
    "app_usage = total_traffic_per_app.groupby('Application')['Total Traffic'].sum().reset_index()"
   ]
  },
  {
   "cell_type": "code",
   "execution_count": null,
   "metadata": {
    "vscode": {
     "languageId": "plaintext"
    }
   },
   "outputs": [],
   "source": [
    "top_3_apps = app_usage.nlargest(3, 'Total Traffic')"
   ]
  },
  {
   "cell_type": "code",
   "execution_count": null,
   "metadata": {
    "vscode": {
     "languageId": "plaintext"
    }
   },
   "outputs": [],
   "source": [
    "plt.figure(figsize=(12, 6))\n",
    "\n",
    "# Bar Chart\n",
    "plt.subplot(1, 2, 1)\n",
    "plt.bar(top_3_apps['Application'], top_3_apps['Total Traffic'], color=['blue', 'orange', 'green'])\n",
    "plt.title('Top 3 Most Used Applications')\n",
    "plt.xlabel('Applications')\n",
    "plt.ylabel('Total Traffic (Bytes)')\n",
    "plt.xticks(rotation=45)\n",
    "\n",
    "# Pie Chart\n",
    "plt.subplot(1, 2, 2)\n",
    "plt.pie(top_3_apps['Total Traffic'], labels=top_3_apps['Application'], autopct='%1.1f%%', startangle=140)\n",
    "plt.title('Traffic Distribution of Top 3 Applications')\n",
    "\n",
    "plt.tight_layout()\n",
    "plt.show()"
   ]
  },
  {
   "cell_type": "code",
   "execution_count": null,
   "metadata": {
    "vscode": {
     "languageId": "plaintext"
    }
   },
   "outputs": [],
   "source": [
    "# k-means clustering algorithm, group users in k engagement clusters based on the engagement metrics: \n",
    "from sklearn.cluster import KMeans\n",
    "from sklearn.preprocessing import StandardScaler"
   ]
  },
  {
   "cell_type": "code",
   "execution_count": null,
   "metadata": {
    "vscode": {
     "languageId": "plaintext"
    }
   },
   "outputs": [],
   "source": [
    "user_engagement = total_traffic_per_app.groupby('MSISDN/Number')['Total Traffic'].sum().reset_index()\n"
   ]
  },
  {
   "cell_type": "code",
   "execution_count": null,
   "metadata": {
    "vscode": {
     "languageId": "plaintext"
    }
   },
   "outputs": [],
   "source": [
    "scaler = StandardScaler()\n",
    "X = scaler.fit_transform(user_engagement[['Total Traffic']])"
   ]
  },
  {
   "cell_type": "code",
   "execution_count": null,
   "metadata": {
    "vscode": {
     "languageId": "plaintext"
    }
   },
   "outputs": [],
   "source": [
    "# Step 2: Determine the optimal number of clusters using the elbow method\n",
    "wcss = [] \n",
    "k_values = range(1, 11)"
   ]
  },
  {
   "cell_type": "code",
   "execution_count": null,
   "metadata": {
    "vscode": {
     "languageId": "plaintext"
    }
   },
   "outputs": [],
   "source": [
    "for k in k_values:\n",
    "    kmeans = KMeans(n_clusters=k, random_state=42)\n",
    "    kmeans.fit(X)\n",
    "    wcss.append(kmeans.inertia_)"
   ]
  },
  {
   "cell_type": "code",
   "execution_count": null,
   "metadata": {
    "vscode": {
     "languageId": "plaintext"
    }
   },
   "outputs": [],
   "source": [
    "# Step 3: Plot the elbow graph\n",
    "plt.figure(figsize=(10, 6))\n",
    "plt.plot(k_values, wcss, marker='o')\n",
    "plt.title('Elbow Method for Optimal k')\n",
    "plt.xlabel('Number of Clusters (k)')\n",
    "plt.ylabel('WCSS')\n",
    "plt.xticks(k_values)\n",
    "plt.grid()\n",
    "plt.show()"
   ]
  },
  {
   "cell_type": "code",
   "execution_count": null,
   "metadata": {
    "vscode": {
     "languageId": "plaintext"
    }
   },
   "outputs": [],
   "source": [
    "#  Fit KMeans with the optimal k (based on the elbow method)\n",
    "optimal_k = 3  # Example based on visual inspection of the elbow plot (adjust as needed)\n",
    "kmeans = KMeans(n_clusters=optimal_k, random_state=42)\n",
    "user_engagement['Cluster'] = kmeans.fit_predict(X)"
   ]
  },
  {
   "cell_type": "code",
   "execution_count": null,
   "metadata": {
    "vscode": {
     "languageId": "plaintext"
    }
   },
   "outputs": [],
   "source": [
    "# Step 5: Analyze the clusters\n",
    "cluster_summary = user_engagement.groupby('Cluster')['Total Traffic'].agg(['count', 'mean', 'sum']).reset_index()\n",
    "print(\"Cluster Summary:\\n\", cluster_summary)"
   ]
  },
  {
   "cell_type": "code",
   "execution_count": null,
   "metadata": {
    "vscode": {
     "languageId": "plaintext"
    }
   },
   "outputs": [],
   "source": []
  }
 ],
 "metadata": {
  "language_info": {
   "name": "python"
  }
 },
 "nbformat": 4,
 "nbformat_minor": 2
}

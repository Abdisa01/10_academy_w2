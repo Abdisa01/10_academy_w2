{
 "cells": [
  {
   "cell_type": "code",
   "execution_count": null,
   "metadata": {
    "vscode": {
     "languageId": "plaintext"
    }
   },
   "outputs": [],
   "source": [
    "#Task 2 - User Engagement Analysis\n",
    "import pandas as pd\n",
    "# Load the datasets from CSV files\n",
    "telecom_df = pd.read_csv('/content/drive/MyDrive/Colab Notebooks/GitHub/Data-weak2/Data/Copy of Week2_challenge_data_source(CSV).csv')\n",
    "print(\"Telecom Data:\")\n",
    "print(telecom_df.head())\n",
    "\n",
    "# Step 1: Identify the Top 10 Handsets Used by Customers (based on Handset Type)\n",
    "top_handsets = telecom_df['Handset Type'].value_counts().head(10)\n",
    "print(\"\\nTop 10 Handsets:\\n\", top_handsets)\n",
    "\n"
   ]
  },
  {
   "cell_type": "code",
   "execution_count": null,
   "metadata": {
    "vscode": {
     "languageId": "plaintext"
    }
   },
   "outputs": [],
   "source": [
    "# Calculate engagement metrics\n",
    "# Calculate session frequency\n",
    "session_frequency = telecom_df.groupby('MSISDN/Number')['Bearer Id'].count().reset_index()\n",
    "session_frequency.rename(columns={'Bearer Id': 'Session Frequency'}, inplace=True)"
   ]
  },
  {
   "cell_type": "code",
   "execution_count": null,
   "metadata": {
    "vscode": {
     "languageId": "plaintext"
    }
   },
   "outputs": [],
   "source": [
    "# Calculate average session duration\n",
    "average_session_duration = telecom_df.groupby('MSISDN/Number')['Dur. (ms)'].mean().reset_index()\n",
    "average_session_duration.rename(columns={'Dur. (ms)': 'Average Session Duration (ms)'}, inplace=True)"
   ]
  },
  {
   "cell_type": "code",
   "execution_count": null,
   "metadata": {
    "vscode": {
     "languageId": "plaintext"
    }
   },
   "outputs": [],
   "source": [
    "# Calculate total traffic (download + upload)\n",
    "total_traffic_dl = telecom_df.groupby('MSISDN/Number')['Total DL (Bytes)'].sum().reset_index()\n",
    "total_traffic_ul = telecom_df.groupby('MSISDN/Number')['Total UL (Bytes)'].sum().reset_index()"
   ]
  },
  {
   "cell_type": "code",
   "execution_count": null,
   "metadata": {
    "vscode": {
     "languageId": "plaintext"
    }
   },
   "outputs": [],
   "source": [
    "# Merge the total traffic data\n",
    "total_traffic = total_traffic_dl.merge(total_traffic_ul, on='MSISDN/Number')\n",
    "total_traffic['Total Traffic (Bytes)'] = total_traffic['Total DL (Bytes)'] + total_traffic['Total UL (Bytes)']\n",
    "total_traffic = total_traffic[['MSISDN/Number', 'Total Traffic (Bytes)']]"
   ]
  },
  {
   "cell_type": "code",
   "execution_count": null,
   "metadata": {
    "vscode": {
     "languageId": "plaintext"
    }
   },
   "outputs": [],
   "source": [
    "# Combine all metrics into one DataFrame\n",
    "user_engagement = session_frequency.merge(average_session_duration, on='MSISDN/Number')\n",
    "user_engagement = user_engagement.merge(total_traffic, on='MSISDN/Number')"
   ]
  },
  {
   "cell_type": "code",
   "execution_count": null,
   "metadata": {
    "vscode": {
     "languageId": "plaintext"
    }
   },
   "outputs": [],
   "source": [
    "# Print the user engagement overview\n",
    "print(\"\\nUser Engagement Overview:\\n\", user_engagement)"
   ]
  },
  {
   "cell_type": "code",
   "execution_count": null,
   "metadata": {
    "vscode": {
     "languageId": "plaintext"
    }
   },
   "outputs": [],
   "source": [
    "import matplotlib.pyplot as plt\n",
    "# Plotting User Engagement Metrics\n",
    "plt.figure(figsize=(16, 10))\n",
    "import seaborn as sns\n",
    "# Session Frequency\n",
    "plt.subplot(3, 1, 1)\n",
    "sns.barplot(data=user_engagement, x='MSISDN/Number', y='Session Frequency', color='blue')\n",
    "plt.title('Session Frequency per User')\n",
    "plt.xlabel('User (MSISDN)')\n",
    "plt.ylabel('Session Frequency')\n",
    "plt.xticks(rotation=90)\n",
    "\n",
    "# Average Session Duration\n",
    "plt.subplot(3, 1, 2)\n",
    "sns.barplot(data=user_engagement, x='MSISDN/Number', y='Average Session Duration (ms)', color='orange')\n",
    "plt.title('Average Session Duration per User')\n",
    "plt.xlabel('User (MSISDN)')\n",
    "plt.ylabel('Average Session Duration (ms)')\n",
    "plt.xticks(rotation=90)\n",
    "\n",
    "# Total Traffic\n",
    "plt.subplot(3, 1, 3)\n",
    "sns.barplot(data=user_engagement, x='MSISDN/Number', y='Total Traffic (Bytes)', color='green')\n",
    "plt.title('Total Traffic per User')\n",
    "plt.xlabel('User (MSISDN)')\n",
    "plt.ylabel('Total Traffic (Bytes)')\n",
    "plt.xticks(rotation=90)\n",
    "\n",
    "plt.tight_layout()\n",
    "plt.show()"
   ]
  },
  {
   "cell_type": "code",
   "execution_count": null,
   "metadata": {
    "vscode": {
     "languageId": "plaintext"
    }
   },
   "outputs": [],
   "source": [
    "# Calculate session frequency\n",
    "session_frequency = telecom_df.groupby('MSISDN/Number')['Bearer Id'].count().reset_index()\n",
    "session_frequency.rename(columns={'Bearer Id': 'Session Frequency'}, inplace=True)"
   ]
  },
  {
   "cell_type": "code",
   "execution_count": null,
   "metadata": {
    "vscode": {
     "languageId": "plaintext"
    }
   },
   "outputs": [],
   "source": [
    "# Calculate average session duration\n",
    "average_session_duration = telecom_df.groupby('MSISDN/Number')['Dur. (ms)'].mean().reset_index()\n",
    "average_session_duration.rename(columns={'Dur. (ms)': 'Average Session Duration (ms)'}, inplace=True)"
   ]
  },
  {
   "cell_type": "code",
   "execution_count": null,
   "metadata": {
    "vscode": {
     "languageId": "plaintext"
    }
   },
   "outputs": [],
   "source": [
    "# Calculate total traffic (download + upload)\n",
    "total_traffic_dl = telecom_df.groupby('MSISDN/Number')['Total DL (Bytes)'].sum().reset_index()\n",
    "total_traffic_ul = telecom_df.groupby('MSISDN/Number')['Total UL (Bytes)'].sum().reset_index()"
   ]
  },
  {
   "cell_type": "code",
   "execution_count": null,
   "metadata": {
    "vscode": {
     "languageId": "plaintext"
    }
   },
   "outputs": [],
   "source": [
    "# Merge the total traffic data\n",
    "total_traffic = total_traffic_dl.merge(total_traffic_ul, on='MSISDN/Number')\n",
    "total_traffic['Total Traffic (Bytes)'] = total_traffic['Total DL (Bytes)'] + total_traffic['Total UL (Bytes)']\n",
    "total_traffic = total_traffic[['MSISDN/Number', 'Total Traffic (Bytes)']]"
   ]
  },
  {
   "cell_type": "code",
   "execution_count": null,
   "metadata": {
    "vscode": {
     "languageId": "plaintext"
    }
   },
   "outputs": [],
   "source": [
    "# Combine all metrics into one DataFrame\n",
    "user_engagement = session_frequency.merge(average_session_duration, on='MSISDN/Number')\n",
    "user_engagement = user_engagement.merge(total_traffic, on='MSISDN/Number')"
   ]
  },
  {
   "cell_type": "code",
   "execution_count": null,
   "metadata": {
    "vscode": {
     "languageId": "plaintext"
    }
   },
   "outputs": [],
   "source": [
    "# Function to get top 10 customers per metric\n",
    "def get_top_customers(df, metric, top_n=10):\n",
    "    return df.nlargest(top_n, metric)"
   ]
  },
  {
   "cell_type": "code",
   "execution_count": null,
   "metadata": {
    "vscode": {
     "languageId": "plaintext"
    }
   },
   "outputs": [],
   "source": [
    "# Top 10 Customers by each engagement metric\n",
    "top_10_sessions = get_top_customers(user_engagement, 'Session Frequency')\n",
    "top_10_duration = get_top_customers(user_engagement, 'Average Session Duration (ms)')\n",
    "top_10_traffic = get_top_customers(user_engagement, 'Total Traffic (Bytes)')"
   ]
  },
  {
   "cell_type": "code",
   "execution_count": null,
   "metadata": {
    "vscode": {
     "languageId": "plaintext"
    }
   },
   "outputs": [],
   "source": [
    "# Print the results\n",
    "print(\"\\nTop 10 Customers by Session Frequency:\\n\", top_10_sessions)\n",
    "print(\"\\nTop 10 Customers by Average Session Duration:\\n\", top_10_duration)\n",
    "print(\"\\nTop 10 Customers by Total Traffic:\\n\", top_10_traffic)"
   ]
  },
  {
   "cell_type": "code",
   "execution_count": null,
   "metadata": {
    "vscode": {
     "languageId": "plaintext"
    }
   },
   "outputs": [],
   "source": [
    "# Visualizing the Top Customers for each metric\n",
    "plt.figure(figsize=(18, 12))\n",
    "\n",
    "# Plot for Top 10 by Session Frequency\n",
    "plt.subplot(3, 1, 1)\n",
    "sns.barplot(data=top_10_sessions, x='MSISDN/Number', y='Session Frequency', color='blue')\n",
    "plt.title('Top 10 Customers by Session Frequency')\n",
    "plt.xlabel('User (MSISDN)')\n",
    "plt.ylabel('Session Frequency')\n",
    "plt.xticks(rotation=90)\n",
    "\n",
    "# Plot for Top 10 by Average Session Duration\n",
    "plt.subplot(3, 1, 2)\n",
    "sns.barplot(data=top_10_duration, x='MSISDN/Number', y='Average Session Duration (ms)', color='orange')\n",
    "plt.title('Top 10 Customers by Average Session Duration')\n",
    "plt.xlabel('User (MSISDN)')\n",
    "plt.ylabel('Average Session Duration (ms)')\n",
    "plt.xticks(rotation=90)\n",
    "\n",
    "# Plot for Top 10 by Total Traffic\n",
    "plt.subplot(3, 1, 3)\n",
    "sns.barplot(data=top_10_traffic, x='MSISDN/Number', y='Total Traffic (Bytes)', color='green')\n",
    "plt.title('Top 10 Customers by Total Traffic')\n",
    "plt.xlabel('User (MSISDN)')\n",
    "plt.ylabel('Total Traffic (Bytes)')\n",
    "plt.xticks(rotation=90)\n",
    "\n",
    "plt.tight_layout()\n",
    "plt.show()"
   ]
  },
  {
   "cell_type": "code",
   "execution_count": null,
   "metadata": {
    "vscode": {
     "languageId": "plaintext"
    }
   },
   "outputs": [],
   "source": [
    "import seaborn as sns\n",
    "import matplotlib.pyplot as plt\n",
    "from sklearn.preprocessing import MinMaxScaler\n",
    "from sklearn.cluster import KMeans"
   ]
  },
  {
   "cell_type": "code",
   "execution_count": null,
   "metadata": {
    "vscode": {
     "languageId": "plaintext"
    }
   },
   "outputs": [],
   "source": [
    "# Calculate engagement metrics (as done previously)\n",
    "session_frequency = telecom_df.groupby('MSISDN/Number')['Bearer Id'].count().reset_index()\n",
    "session_frequency.rename(columns={'Bearer Id': 'Session Frequency'}, inplace=True)"
   ]
  },
  {
   "cell_type": "code",
   "execution_count": null,
   "metadata": {
    "vscode": {
     "languageId": "plaintext"
    }
   },
   "outputs": [],
   "source": [
    "average_session_duration = telecom_df.groupby('MSISDN/Number')['Dur. (ms)'].mean().reset_index()\n",
    "average_session_duration.rename(columns={'Dur. (ms)': 'Average Session Duration (ms)'}, inplace=True)"
   ]
  },
  {
   "cell_type": "code",
   "execution_count": null,
   "metadata": {
    "vscode": {
     "languageId": "plaintext"
    }
   },
   "outputs": [],
   "source": [
    "total_traffic_dl = telecom_df.groupby('MSISDN/Number')['Total DL (Bytes)'].sum().reset_index()\n",
    "total_traffic_ul = telecom_df.groupby('MSISDN/Number')['Total UL (Bytes)'].sum().reset_index()"
   ]
  },
  {
   "cell_type": "code",
   "execution_count": null,
   "metadata": {
    "vscode": {
     "languageId": "plaintext"
    }
   },
   "outputs": [],
   "source": [
    "total_traffic = total_traffic_dl.merge(total_traffic_ul, on='MSISDN/Number')\n",
    "total_traffic['Total Traffic (Bytes)'] = total_traffic['Total DL (Bytes)'] + total_traffic['Total UL (Bytes)']\n",
    "total_traffic = total_traffic[['MSISDN/Number', 'Total Traffic (Bytes)']]"
   ]
  },
  {
   "cell_type": "code",
   "execution_count": null,
   "metadata": {
    "vscode": {
     "languageId": "plaintext"
    }
   },
   "outputs": [],
   "source": [
    "# Combine all metrics into one DataFrame\n",
    "user_engagement = session_frequency.merge(average_session_duration, on='MSISDN/Number')\n",
    "user_engagement = user_engagement.merge(total_traffic, on='MSISDN/Number')"
   ]
  },
  {
   "cell_type": "code",
   "execution_count": null,
   "metadata": {
    "vscode": {
     "languageId": "plaintext"
    }
   },
   "outputs": [],
   "source": [
    "# Combine all metrics into one DataFrame\n",
    "user_engagement = session_frequency.merge(average_session_duration, on='MSISDN/Number')\n",
    "user_engagement = user_engagement.merge(total_traffic, on='MSISDN/Number')"
   ]
  },
  {
   "cell_type": "code",
   "execution_count": null,
   "metadata": {
    "vscode": {
     "languageId": "plaintext"
    }
   },
   "outputs": [],
   "source": [
    "# Normalize the engagement metrics\n",
    "scaler = MinMaxScaler()\n",
    "normalized_metrics = scaler.fit_transform(user_engagement[['Session Frequency', 'Average Session Duration (ms)', 'Total Traffic (Bytes)']])"
   ]
  },
  {
   "cell_type": "code",
   "execution_count": null,
   "metadata": {
    "vscode": {
     "languageId": "plaintext"
    }
   },
   "outputs": [],
   "source": [
    "# Run K-means clustering\n",
    "kmeans = KMeans(n_clusters=3, random_state=42)\n",
    "user_engagement['Cluster'] = kmeans.fit_predict(normalized_metrics)"
   ]
  },
  {
   "cell_type": "code",
   "execution_count": null,
   "metadata": {
    "vscode": {
     "languageId": "plaintext"
    }
   },
   "outputs": [],
   "source": [
    "# Print the user engagement with cluster labels\n",
    "print(\"\\nUser Engagement with Cluster Labels:\\n\", user_engagement)"
   ]
  },
  {
   "cell_type": "code",
   "execution_count": null,
   "metadata": {
    "vscode": {
     "languageId": "plaintext"
    }
   },
   "outputs": [],
   "source": [
    "# Visualize the clusters\n",
    "plt.figure(figsize=(12, 8))\n",
    "sns.scatterplot(data=user_engagement, x='Session Frequency', y='Total Traffic (Bytes)', hue='Cluster', palette='viridis', style='Cluster', s=100)\n",
    "plt.title('Customer Segmentation by Engagement Metrics')\n",
    "plt.xlabel('Session Frequency')\n",
    "plt.ylabel('Total Traffic (Bytes)')\n",
    "plt.legend(title='Cluster')\n",
    "plt.show()"
   ]
  },
  {
   "cell_type": "code",
   "execution_count": null,
   "metadata": {
    "vscode": {
     "languageId": "plaintext"
    }
   },
   "outputs": [],
   "source": [
    "# Recalculate non-normalized metrics for each cluster\n",
    "engagement_summary = user_engagement.groupby('Cluster').agg(\n",
    "    Min_Session_Frequency=('Session Frequency', 'min'),\n",
    "    Max_Session_Frequency=('Session Frequency', 'max'),\n",
    "    Avg_Session_Frequency=('Session Frequency', 'mean'),\n",
    "    Total_Session_Frequency=('Session Frequency', 'sum'),\n",
    "    Min_Average_Duration=('Average Session Duration (ms)', 'min'),\n",
    "    Max_Average_Duration=('Average Session Duration (ms)', 'max'),\n",
    "    Avg_Average_Duration=('Average Session Duration (ms)', 'mean'),\n",
    "    Total_Average_Duration=('Average Session Duration (ms)', 'sum'),\n",
    "    Min_Total_Traffic=('Total Traffic (Bytes)', 'min'),\n",
    "    Max_Total_Traffic=('Total Traffic (Bytes)', 'max'),\n",
    "    Avg_Total_Traffic=('Total Traffic (Bytes)', 'mean'),\n",
    "    Total_Total_Traffic=('Total Traffic (Bytes)', 'sum')\n",
    ").reset_index()"
   ]
  },
  {
   "cell_type": "code",
   "execution_count": null,
   "metadata": {
    "vscode": {
     "languageId": "plaintext"
    }
   },
   "outputs": [],
   "source": [
    "# Print the engagement summary\n",
    "print(\"\\nEngagement Summary by Cluster:\\n\", engagement_summary)"
   ]
  },
  {
   "cell_type": "code",
   "execution_count": null,
   "metadata": {
    "vscode": {
     "languageId": "plaintext"
    }
   },
   "outputs": [],
   "source": [
    "# Plotting metrics\n",
    "plt.subplot(3, 1, 1)\n",
    "plt.bar(x, engagement_summary['Avg_Session_Frequency'], width=bar_width, label='Average Frequency', color='blue')\n",
    "plt.bar([p + bar_width for p in x], engagement_summary['Total_Session_Frequency'], width=bar_width, label='Total Frequency', color='lightblue')\n",
    "plt.xticks([p + bar_width / 2 for p in x], ['Cluster 0', 'Cluster 1', 'Cluster 2'])\n",
    "plt.title('Session Frequency Metrics by Cluster')\n",
    "plt.ylabel('Frequency')\n",
    "plt.legend()"
   ]
  },
  {
   "cell_type": "code",
   "execution_count": null,
   "metadata": {
    "vscode": {
     "languageId": "plaintext"
    }
   },
   "outputs": [],
   "source": [
    "plt.subplot(3, 1, 2)\n",
    "plt.bar(x, engagement_summary['Avg_Average_Duration'], width=bar_width, label='Average Duration (ms)', color='orange')\n",
    "plt.bar([p + bar_width for p in x], engagement_summary['Total_Average_Duration'], width=bar_width, label='Total Duration (ms)', color='lightorange')\n",
    "plt.xticks([p + bar_width / 2 for p in x], ['Cluster 0', 'Cluster 1', 'Cluster 2'])\n",
    "plt.title('Session Duration Metrics by Cluster')\n",
    "plt.ylabel('Duration (ms)')\n",
    "plt.legend()"
   ]
  },
  {
   "cell_type": "code",
   "execution_count": null,
   "metadata": {
    "vscode": {
     "languageId": "plaintext"
    }
   },
   "outputs": [],
   "source": [
    "plt.subplot(3, 1, 3)\n",
    "plt.bar(x, engagement_summary['Avg_Total_Traffic'], width=bar_width, label='Average Traffic (Bytes)', color='green')\n",
    "plt.bar([p + bar_width for p in x], engagement_summary['Total_Total_Traffic'], width=bar_width, label='Total Traffic (Bytes)', color='lightgreen')\n",
    "plt.xticks([p + bar_width / 2 for p in x], ['Cluster 0', 'Cluster 1', 'Cluster 2'])\n",
    "plt.title('Traffic Metrics by Cluster')\n",
    "plt.ylabel('Traffic (Bytes)')\n",
    "plt.legend()\n",
    "\n",
    "plt.tight_layout()\n",
    "plt.show()"
   ]
  },
  {
   "cell_type": "code",
   "execution_count": null,
   "metadata": {
    "vscode": {
     "languageId": "plaintext"
    }
   },
   "outputs": [],
   "source": [
    "print(\"Columns in the Telecom Data:\")\n",
    "print(telecom_df.columns)"
   ]
  },
  {
   "cell_type": "code",
   "execution_count": null,
   "metadata": {
    "vscode": {
     "languageId": "plaintext"
    }
   },
   "outputs": [],
   "source": []
  }
 ],
 "metadata": {
  "language_info": {
   "name": "python"
  }
 },
 "nbformat": 4,
 "nbformat_minor": 2
}

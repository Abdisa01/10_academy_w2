{
 "cells": [
  {
   "cell_type": "code",
   "execution_count": null,
   "metadata": {
    "vscode": {
     "languageId": "plaintext"
    }
   },
   "outputs": [],
   "source": [
    "import pandas as pd\n",
    "# Load the datasets from CSV files\n",
    "telecom_df = pd.read_csv('/content/drive/MyDrive/Colab Notebooks/GitHub/Data-weak2/Data/Copy of Week2_challenge_data_source(CSV).csv')\n",
    "print(\"Telecom Data:\")\n",
    "print(telecom_df.head())\n",
    "\n",
    "# Step 1: Identify the Top 10 Handsets Used by Customers (based on Handset Type)\n",
    "top_handsets = telecom_df['Handset Type'].value_counts().head(10)\n",
    "print(\"\\nTop 10 Handsets:\\n\", top_handsets)"
   ]
  },
  {
   "cell_type": "code",
   "execution_count": null,
   "metadata": {
    "vscode": {
     "languageId": "plaintext"
    }
   },
   "outputs": [],
   "source": [
    "print(\"Missing Values Before Cleaning:\\n\", telecom_df.isnull().sum())"
   ]
  },
  {
   "cell_type": "code",
   "execution_count": null,
   "metadata": {
    "vscode": {
     "languageId": "plaintext"
    }
   },
   "outputs": [],
   "source": [
    "# Replace missing values with mean for numeric columns and mode for categorical columns\n",
    "telecom_df['TCP DL Retrans. Vol (Bytes)'].fillna(telecom_df['TCP DL Retrans. Vol (Bytes)'].mean(), inplace=True)\n",
    "telecom_df['TCP UL Retrans. Vol (Bytes)'].fillna(telecom_df['TCP UL Retrans. Vol (Bytes)'].mean(), inplace=True)\n",
    "telecom_df['Avg RTT DL (ms)'].fillna(telecom_df['Avg RTT DL (ms)'].mean(), inplace=True)\n",
    "telecom_df['Avg RTT UL (ms)'].fillna(telecom_df['Avg RTT UL (ms)'].mean(), inplace=True)\n",
    "telecom_df['Avg Bearer TP DL (kbps)'].fillna(telecom_df['Avg Bearer TP DL (kbps)'].mean(), inplace=True)\n",
    "telecom_df['Avg Bearer TP UL (kbps)'].fillna(telecom_df['Avg Bearer TP UL (kbps)'].mean(), inplace=True)\n",
    "telecom_df['Handset Type'].fillna(telecom_df['Handset Type'].mode()[0], inplace=True)"
   ]
  },
  {
   "cell_type": "code",
   "execution_count": null,
   "metadata": {
    "vscode": {
     "languageId": "plaintext"
    }
   },
   "outputs": [],
   "source": [
    " #Outlier Detection and Handling\n",
    "def replace_outliers_with_mean(column):\n",
    "    mean = column.mean()\n",
    "    std_dev = column.std()\n",
    "    lower_bound = mean - 3 * std_dev\n",
    "    upper_bound = mean + 3 * std_dev\n",
    "    column = np.where(column < lower_bound, mean, column)\n",
    "    column = np.where(column > upper_bound, mean, column)\n",
    "    return column\n",
    "\n",
    "telecom_df['Avg RTT DL (ms)'] = replace_outliers_with_mean(telecom_df['Avg RTT DL (ms)'])\n",
    "telecom_df['Avg RTT UL (ms)'] = replace_outliers_with_mean(telecom_df['Avg RTT UL (ms)'])\n",
    "telecom_df['Avg Bearer TP DL (kbps)'] = replace_outliers_with_mean(telecom_df['Avg Bearer TP DL (kbps)'])\n",
    "telecom_df['Avg Bearer TP UL (kbps)'] = replace_outliers_with_mean(telecom_df['Avg Bearer TP UL (kbps)'])"
   ]
  },
  {
   "cell_type": "code",
   "execution_count": null,
   "metadata": {
    "vscode": {
     "languageId": "plaintext"
    }
   },
   "outputs": [],
   "source": [
    "# Step 4: Aggregation\n",
    "customer_aggregation = telecom_df.groupby('MSISDN/Number').agg({\n",
    "    'TCP DL Retrans. Vol (Bytes)': 'mean',\n",
    "    'TCP UL Retrans. Vol (Bytes)': 'mean',\n",
    "    'Avg RTT DL (ms)': 'mean',\n",
    "    'Avg RTT UL (ms)': 'mean',\n",
    "    'Avg Bearer TP DL (kbps)': 'mean',\n",
    "    'Avg Bearer TP UL (kbps)': 'mean',\n",
    "    'Handset Type': lambda x: x.mode()[0]  # Most common handset type\n",
    "}).reset_index()"
   ]
  },
  {
   "cell_type": "code",
   "execution_count": null,
   "metadata": {
    "vscode": {
     "languageId": "plaintext"
    }
   },
   "outputs": [],
   "source": [
    "# Average TCP Retransmission and Throughput\n",
    "customer_aggregation['Average TCP Retransmission'] = (\n",
    "    customer_aggregation['TCP DL Retrans. Vol (Bytes)'] + \n",
    "    customer_aggregation['TCP UL Retrans. Vol (Bytes)']\n",
    ") / 2"
   ]
  },
  {
   "cell_type": "code",
   "execution_count": null,
   "metadata": {
    "vscode": {
     "languageId": "plaintext"
    }
   },
   "outputs": [],
   "source": [
    "customer_aggregation['Average Throughput'] = (\n",
    "    customer_aggregation['Avg Bearer TP DL (kbps)'] + \n",
    "    customer_aggregation['Avg Bearer TP UL (kbps)']\n",
    ") / 2"
   ]
  },
  {
   "cell_type": "code",
   "execution_count": null,
   "metadata": {
    "vscode": {
     "languageId": "plaintext"
    }
   },
   "outputs": [],
   "source": [
    "# Drop unnecessary columns\n",
    "customer_aggregation.drop(columns=['TCP DL Retrans. Vol (Bytes)', 'TCP UL Retrans. Vol (Bytes)', \n",
    "                                    'Avg Bearer TP DL (kbps)', 'Avg Bearer TP UL (kbps)'], inplace=True)"
   ]
  },
  {
   "cell_type": "code",
   "execution_count": null,
   "metadata": {
    "vscode": {
     "languageId": "plaintext"
    }
   },
   "outputs": [],
   "source": [
    " # Rename columns for clarity\n",
    "customer_aggregation.rename(columns={\n",
    "    'Avg RTT DL (ms)': 'Average RTT DL (ms)',\n",
    "    'Avg RTT UL (ms)': 'Average RTT UL (ms)'\n",
    "}, inplace=True)"
   ]
  },
  {
   "cell_type": "code",
   "execution_count": null,
   "metadata": {
    "vscode": {
     "languageId": "plaintext"
    }
   },
   "outputs": [],
   "source": [
    "print(\"\\nAggregated Customer Data:\\n\", customer_aggregation.head())"
   ]
  }
 ],
 "metadata": {
  "language_info": {
   "name": "python"
  }
 },
 "nbformat": 4,
 "nbformat_minor": 2
}

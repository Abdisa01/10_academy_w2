{
 "cells": [
  {
   "cell_type": "code",
   "execution_count": null,
   "metadata": {
    "vscode": {
     "languageId": "plaintext"
    }
   },
   "outputs": [],
   "source": [
    "import pandas as pd\n",
    "# Load the datasets from CSV files\n",
    "telecom_df = pd.read_csv('/content/drive/MyDrive/Colab Notebooks/GitHub/Data-weak2/Data/Copy of Week2_challenge_data_source(CSV).csv')\n",
    "print(\"Telecom Data:\")\n",
    "print(telecom_df.head())\n",
    "#Task 3.2 - Compute & list 10 of the top, bottom, and most frequent:\n",
    "\n",
    "# Step 1: Identify the Top 10 Handsets Used by Customers (based on Handset Type)\n",
    "top_handsets = telecom_df['Handset Type'].value_counts().head(10)\n",
    "print(\"\\nTop 10 Handsets:\\n\", top_handsets)"
   ]
  },
  {
   "cell_type": "code",
   "execution_count": null,
   "metadata": {
    "vscode": {
     "languageId": "plaintext"
    }
   },
   "outputs": [],
   "source": [
    "# Step 2: Extract Relevant Columns\n",
    "tcp_retransmission = telecom_df['TCP DL Retrans. Vol (Bytes)'] + telecom_df['TCP UL Retrans. Vol (Bytes)']\n",
    "rtt_dl = telecom_df['Avg RTT DL (ms)']\n",
    "rtt_ul = telecom_df['Avg RTT UL (ms)']\n",
    "throughput_dl = telecom_df['Avg Bearer TP DL (kbps)']\n",
    "throughput_ul = telecom_df['Avg Bearer TP UL (kbps)']"
   ]
  },
  {
   "cell_type": "code",
   "execution_count": null,
   "metadata": {
    "vscode": {
     "languageId": "plaintext"
    }
   },
   "outputs": [],
   "source": [
    "# Combine RTT values for analysis\n",
    "rtt_combined = pd.concat([rtt_dl, rtt_ul])"
   ]
  },
  {
   "cell_type": "code",
   "execution_count": null,
   "metadata": {
    "vscode": {
     "languageId": "plaintext"
    }
   },
   "outputs": [],
   "source": [
    "# Calculate Top, Bottom, and Most Frequent Values\n",
    "def calculate_top_bottom_frequent(series):\n",
    "    top_values = series.nlargest(10)\n",
    "    bottom_values = series.nsmallest(10)\n",
    "    most_frequent = series.value_counts().nlargest(10)\n",
    "    return top_values, bottom_values, most_frequent"
   ]
  },
  {
   "cell_type": "code",
   "execution_count": null,
   "metadata": {
    "vscode": {
     "languageId": "plaintext"
    }
   },
   "outputs": [],
   "source": [
    "# TCP Values\n",
    "tcp_top, tcp_bottom, tcp_frequent = calculate_top_bottom_frequent(tcp_retransmission)"
   ]
  },
  {
   "cell_type": "code",
   "execution_count": null,
   "metadata": {
    "vscode": {
     "languageId": "plaintext"
    }
   },
   "outputs": [],
   "source": [
    "# RTT Values\n",
    "rtt_top, rtt_bottom, rtt_frequent = calculate_top_bottom_frequent(rtt_combined)"
   ]
  },
  {
   "cell_type": "code",
   "execution_count": null,
   "metadata": {
    "vscode": {
     "languageId": "plaintext"
    }
   },
   "outputs": [],
   "source": [
    "# Throughput Values\n",
    "throughput_combined = pd.concat([throughput_dl, throughput_ul])\n",
    "throughput_top, throughput_bottom, throughput_frequent = calculate_top_bottom_frequent(throughput_combined)"
   ]
  },
  {
   "cell_type": "code",
   "execution_count": null,
   "metadata": {
    "vscode": {
     "languageId": "plaintext"
    }
   },
   "outputs": [],
   "source": [
    "# Display Results\n",
    "print(\"\\nTop 10 TCP Values:\\n\", tcp_top)\n",
    "print(\"\\nBottom 10 TCP Values:\\n\", tcp_bottom)\n",
    "print(\"\\nMost Frequent TCP Values:\\n\", tcp_frequent)\n",
    "\n",
    "print(\"\\nTop 10 RTT Values:\\n\", rtt_top)\n",
    "print(\"\\nBottom 10 RTT Values:\\n\", rtt_bottom)\n",
    "print(\"\\nMost Frequent RTT Values:\\n\", rtt_frequent)\n",
    "\n",
    "print(\"\\nTop 10 Throughput Values:\\n\", throughput_top)\n",
    "print(\"\\nBottom 10 Throughput Values:\\n\", throughput_bottom)\n",
    "print(\"\\nMost Frequent Throughput Values:\\n\", throughput_frequent)"
   ]
  },
  {
   "cell_type": "code",
   "execution_count": null,
   "metadata": {
    "vscode": {
     "languageId": "plaintext"
    }
   },
   "outputs": [],
   "source": [
    "# Plotting\n",
    "def plot_values(title, top_values, bottom_values, freq_values, value_type):\n",
    "    plt.figure(figsize=(15, 8))\n",
    "    \n",
    "    # Top values\n",
    "    plt.subplot(3, 1, 1)\n",
    "    sns.barplot(x=top_values.index, y=top_values.values, palette='Blues')\n",
    "    plt.title(f'Top 10 {value_type} Values')\n",
    "    plt.xlabel(value_type)\n",
    "    plt.ylabel('Value')\n",
    "    \n",
    "    # Bottom values\n",
    "    plt.subplot(3, 1, 2)\n",
    "    sns.barplot(x=bottom_values.index, y=bottom_values.values, palette='Reds')\n",
    "    plt.title(f'Bottom 10 {value_type} Values')\n",
    "    plt.xlabel(value_type)\n",
    "    plt.ylabel('Value')\n",
    "    \n",
    "    # Most frequent values\n",
    "    plt.subplot(3, 1, 3)\n",
    "    sns.barplot(x=freq_values.index, y=freq_values.values, palette='Greens')\n",
    "    plt.title(f'Most Frequent {value_type} Values')\n",
    "    plt.xlabel(value_type)\n",
    "    plt.ylabel('Frequency')\n",
    "    \n",
    "    plt.tight_layout()\n",
    "    plt.show()"
   ]
  },
  {
   "cell_type": "code",
   "execution_count": null,
   "metadata": {
    "vscode": {
     "languageId": "plaintext"
    }
   },
   "outputs": [],
   "source": [
    "# Plot TCP Values\n",
    "plot_values(\"TCP Values\", tcp_top, tcp_bottom, tcp_frequent, \"TCP Retransmission\")"
   ]
  },
  {
   "cell_type": "code",
   "execution_count": null,
   "metadata": {
    "vscode": {
     "languageId": "plaintext"
    }
   },
   "outputs": [],
   "source": [
    "# Plot RTT Values\n",
    "plot_values(\"RTT Values\", rtt_top, rtt_bottom, rtt_frequent, \"RTT (ms)\")"
   ]
  },
  {
   "cell_type": "code",
   "execution_count": null,
   "metadata": {
    "vscode": {
     "languageId": "plaintext"
    }
   },
   "outputs": [],
   "source": [
    "# Plot Throughput Values\n",
    "plot_values(\"Throughput Values\", throughput_top, throughput_bottom, throughput_frequent, \"Throughput (kbps)\")"
   ]
  }
 ],
 "metadata": {
  "language_info": {
   "name": "python"
  }
 },
 "nbformat": 4,
 "nbformat_minor": 2
}

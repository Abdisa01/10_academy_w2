{
 "cells": [
  {
   "cell_type": "code",
   "execution_count": null,
   "metadata": {
    "vscode": {
     "languageId": "plaintext"
    }
   },
   "outputs": [],
   "source": [
    "import pandas as pd\n",
    "# Load the datasets from CSV files\n",
    "telecom_df = pd.read_csv('/content/drive/MyDrive/Colab Notebooks/GitHub/Data-weak2/Data/Copy of Week2_challenge_data_source(CSV).csv')\n",
    "print(\"Telecom Data:\")\n",
    "print(telecom_df.head())\n",
    "\n",
    "# Step 1: Identify the Top 10 Handsets Used by Customers (based on Handset Type)\n",
    "top_handsets = telecom_df['Handset Type'].value_counts().head(10)\n",
    "print(\"\\nTop 10 Handsets:\\n\", top_handsets)"
   ]
  },
  {
   "cell_type": "code",
   "execution_count": null,
   "metadata": {
    "vscode": {
     "languageId": "plaintext"
    }
   },
   "outputs": [],
   "source": [
    "import numpy as np\n",
    "from sklearn.cluster import KMeans\n",
    "import matplotlib.pyplot as plt\n",
    "import seaborn as sns"
   ]
  },
  {
   "cell_type": "code",
   "execution_count": null,
   "metadata": {
    "vscode": {
     "languageId": "plaintext"
    }
   },
   "outputs": [],
   "source": [
    "#Compute Average Throughput and TCP Retransmission per Handset Type\n",
    "telecom_df['Total Throughput (kbps)'] = (telecom_df['Avg Bearer TP DL (kbps)'] + telecom_df['Avg Bearer TP UL (kbps)']) / 2\n",
    "telecom_df['Total TCP Retransmission (Bytes)'] = (telecom_df['TCP DL Retrans. Vol (Bytes)'] + telecom_df['TCP UL Retrans. Vol (Bytes)']) / 2"
   ]
  },
  {
   "cell_type": "code",
   "execution_count": null,
   "metadata": {
    "vscode": {
     "languageId": "plaintext"
    }
   },
   "outputs": [],
   "source": [
    "# Aggregate metrics per user (or handset type)\n",
    "user_metrics = telecom_df.groupby('MSISDN/Number').agg({\n",
    "    'Total Throughput (kbps)': 'mean',\n",
    "    'Total TCP Retransmission (Bytes)': 'mean'\n",
    "}).reset_index()"
   ]
  },
  {
   "cell_type": "code",
   "execution_count": null,
   "metadata": {
    "vscode": {
     "languageId": "plaintext"
    }
   },
   "outputs": [],
   "source": [
    "#Perform K-means Clustering\n",
    "kmeans = KMeans(n_clusters=3, random_state=42)\n",
    "user_metrics['Cluster'] = kmeans.fit_predict(user_metrics[['Total Throughput (kbps)', 'Total TCP Retransmission (Bytes)']])"
   ]
  },
  {
   "cell_type": "code",
   "execution_count": null,
   "metadata": {
    "vscode": {
     "languageId": "plaintext"
    }
   },
   "outputs": [],
   "source": [
    "# Analyze and Describe Clusters\n",
    "cluster_summary = user_metrics.groupby('Cluster').agg({\n",
    "    'Total Throughput (kbps)': 'mean',\n",
    "    'Total TCP Retransmission (Bytes)': 'mean',\n",
    "    'MSISDN/Number': 'count'  # Count of users in each cluster\n",
    "}).reset_index()"
   ]
  },
  {
   "cell_type": "code",
   "execution_count": null,
   "metadata": {
    "vscode": {
     "languageId": "plaintext"
    }
   },
   "outputs": [],
   "source": [
    "print(\"\\nCluster Summary:\\n\", cluster_summary)"
   ]
  },
  {
   "cell_type": "code",
   "execution_count": null,
   "metadata": {
    "vscode": {
     "languageId": "plaintext"
    }
   },
   "outputs": [],
   "source": [
    "#Visualize Clusters\n",
    "plt.figure(figsize=(10, 6))\n",
    "sns.scatterplot(data=user_metrics, x='Total Throughput (kbps)', y='Total TCP Retransmission (Bytes)', hue='Cluster', palette='Set1')\n",
    "plt.title('K-Means Clustering of Users')\n",
    "plt.xlabel('Average Throughput (kbps)')\n",
    "plt.ylabel('Average TCP Retransmission (Bytes)')\n",
    "plt.legend(title='Cluster')\n",
    "plt.grid()\n",
    "plt.show()"
   ]
  }
 ],
 "metadata": {
  "language_info": {
   "name": "python"
  }
 },
 "nbformat": 4,
 "nbformat_minor": 2
}

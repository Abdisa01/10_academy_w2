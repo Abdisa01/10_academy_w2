{
 "cells": [
  {
   "cell_type": "code",
   "execution_count": null,
   "metadata": {
    "vscode": {
     "languageId": "plaintext"
    }
   },
   "outputs": [],
   "source": [
    "import pandas as pd\n",
    "# Load the datasets from CSV files\n",
    "telecom_df = pd.read_csv('/content/drive/MyDrive/Colab Notebooks/GitHub/Data-weak2/Data/Copy of Week2_challenge_data_source(CSV).csv')\n",
    "print(\"Telecom Data:\")\n",
    "print(telecom_df.head())\n",
    "\n",
    "# Step 1: Identify the Top 10 Handsets Used by Customers (based on Handset Type)\n",
    "top_handsets = telecom_df['Handset Type'].value_counts().head(10)\n",
    "print(\"\\nTop 10 Handsets:\\n\", top_handsets)"
   ]
  },
  {
   "cell_type": "code",
   "execution_count": null,
   "metadata": {
    "vscode": {
     "languageId": "plaintext"
    }
   },
   "outputs": [],
   "source": [
    "#Compute Average Throughput and TCP Retransmission per Handset Type\n",
    "telecom_df['Total Throughput (kbps)'] = (telecom_df['Avg Bearer TP DL (kbps)'] + telecom_df['Avg Bearer TP UL (kbps)']) / 2\n",
    "telecom_df['Total TCP Retransmission (Bytes)'] = (telecom_df['TCP DL Retrans. Vol (Bytes)'] + telecom_df['TCP UL Retrans. Vol (Bytes)']) / 2\n",
    "average_throughput = telecom_df.groupby('Handset Type')['Total Throughput (kbps)'].mean().reset_index()\n",
    "average_tcp_retransmission = telecom_df.groupby('Handset Type')['Total TCP Retransmission (Bytes)'].mean().reset_index()"
   ]
  },
  {
   "cell_type": "code",
   "execution_count": null,
   "metadata": {
    "vscode": {
     "languageId": "plaintext"
    }
   },
   "outputs": [],
   "source": [
    " Interpret Findings\n",
    "print(\"\\nAverage Throughput per Handset Type:\\n\", average_throughput)\n",
    "print(\"\\nAverage TCP Retransmission per Handset Type:\\n\", average_tcp_retransmission)"
   ]
  },
  {
   "cell_type": "code",
   "execution_count": null,
   "metadata": {
    "vscode": {
     "languageId": "plaintext"
    }
   },
   "outputs": [],
   "source": [
    "#Visualize the Results\n",
    "plt.figure(figsize=(14, 6))\n",
    "\n",
    "# Average Throughput Plot\n",
    "plt.subplot(1, 2, 1)\n",
    "sns.barplot(data=average_throughput, x='Handset Type', y='Total Throughput (kbps)', palette='Blues')\n",
    "plt.title('Average Throughput per Handset Type')\n",
    "plt.xlabel('Handset Type')\n",
    "plt.ylabel('Average Throughput (kbps)')\n",
    "plt.xticks(rotation=45)\n",
    "\n",
    "# Average TCP Retransmission Plot\n",
    "plt.subplot(1, 2, 2)\n",
    "sns.barplot(data=average_tcp_retransmission, x='Handset Type', y='Total TCP Retransmission (Bytes)', palette='Reds')\n",
    "plt.title('Average TCP Retransmission per Handset Type')\n",
    "plt.xlabel('Handset Type')\n",
    "plt.ylabel('Average TCP Retransmission (Bytes)')\n",
    "plt.xticks(rotation=45)\n",
    "\n",
    "plt.tight_layout()\n",
    "plt.show()"
   ]
  }
 ],
 "metadata": {
  "language_info": {
   "name": "python"
  }
 },
 "nbformat": 4,
 "nbformat_minor": 2
}
